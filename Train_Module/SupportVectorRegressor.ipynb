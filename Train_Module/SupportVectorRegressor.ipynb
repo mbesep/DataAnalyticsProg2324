{
 "cells": [
  {
   "cell_type": "code",
   "execution_count": 2,
   "metadata": {},
   "outputs": [],
   "source": [
    "import random\n",
    "import numpy as np\n",
    "import pandas as pd\n",
    "import seaborn as sns\n",
    "import matplotlib.pyplot as plt\n",
    "import pickle\n",
    "\n",
    "from sklearn.model_selection import train_test_split\n",
    "\n",
    "from sklearn.model_selection import GridSearchCV\n",
    "from sklearn.model_selection import RandomizedSearchCV\n",
    "from sklearn.svm import SVR\n",
    "from sklearn.metrics import mean_squared_error, mean_absolute_error, mean_absolute_percentage_error, r2_score\n",
    "\n",
    "from sklearn.decomposition import PCA\n",
    "from sklearn.preprocessing import StandardScaler\n",
    "from sklearn.preprocessing import MinMaxScaler\n",
    "from sklearn.preprocessing import PowerTransformer\n",
    "from sklearn.preprocessing import Normalizer\n",
    "\n",
    "\n",
    "\n",
    "seed = 42\n",
    "np.random.seed(seed)\n",
    "random.seed(seed)"
   ]
  },
  {
   "cell_type": "code",
   "execution_count": 3,
   "metadata": {},
   "outputs": [
    {
     "name": "stdout",
     "output_type": "stream",
     "text": [
      "(252123, 91)\n"
     ]
    },
    {
     "data": {
      "text/html": [
       "<div>\n",
       "<style scoped>\n",
       "    .dataframe tbody tr th:only-of-type {\n",
       "        vertical-align: middle;\n",
       "    }\n",
       "\n",
       "    .dataframe tbody tr th {\n",
       "        vertical-align: top;\n",
       "    }\n",
       "\n",
       "    .dataframe thead th {\n",
       "        text-align: right;\n",
       "    }\n",
       "</style>\n",
       "<table border=\"1\" class=\"dataframe\">\n",
       "  <thead>\n",
       "    <tr style=\"text-align: right;\">\n",
       "      <th></th>\n",
       "      <th>Year</th>\n",
       "      <th>S0</th>\n",
       "      <th>S1</th>\n",
       "      <th>S2</th>\n",
       "      <th>S3</th>\n",
       "      <th>S4</th>\n",
       "      <th>S5</th>\n",
       "      <th>S6</th>\n",
       "      <th>S7</th>\n",
       "      <th>S8</th>\n",
       "      <th>...</th>\n",
       "      <th>S80</th>\n",
       "      <th>S81</th>\n",
       "      <th>S82</th>\n",
       "      <th>S83</th>\n",
       "      <th>S84</th>\n",
       "      <th>S85</th>\n",
       "      <th>S86</th>\n",
       "      <th>S87</th>\n",
       "      <th>S88</th>\n",
       "      <th>S89</th>\n",
       "    </tr>\n",
       "  </thead>\n",
       "  <tbody>\n",
       "    <tr>\n",
       "      <th>0</th>\n",
       "      <td>2007</td>\n",
       "      <td>44.76752</td>\n",
       "      <td>114.82099</td>\n",
       "      <td>3.83239</td>\n",
       "      <td>27.99928</td>\n",
       "      <td>1.49153</td>\n",
       "      <td>-15.90853</td>\n",
       "      <td>28.24844</td>\n",
       "      <td>3.61650</td>\n",
       "      <td>-7.24653</td>\n",
       "      <td>...</td>\n",
       "      <td>-1.89619</td>\n",
       "      <td>-471.02844</td>\n",
       "      <td>411.56205</td>\n",
       "      <td>443.01198</td>\n",
       "      <td>19.30254</td>\n",
       "      <td>309.07806</td>\n",
       "      <td>-336.91706</td>\n",
       "      <td>-14.70547</td>\n",
       "      <td>-474.44157</td>\n",
       "      <td>31.32820</td>\n",
       "    </tr>\n",
       "    <tr>\n",
       "      <th>1</th>\n",
       "      <td>2004</td>\n",
       "      <td>52.28942</td>\n",
       "      <td>75.73319</td>\n",
       "      <td>11.35941</td>\n",
       "      <td>-6.20582</td>\n",
       "      <td>-27.64559</td>\n",
       "      <td>-30.75995</td>\n",
       "      <td>12.50955</td>\n",
       "      <td>7.47877</td>\n",
       "      <td>9.88498</td>\n",
       "      <td>...</td>\n",
       "      <td>4.57060</td>\n",
       "      <td>1.36110</td>\n",
       "      <td>-6.52977</td>\n",
       "      <td>59.48672</td>\n",
       "      <td>3.69790</td>\n",
       "      <td>-36.92252</td>\n",
       "      <td>44.08077</td>\n",
       "      <td>3.39993</td>\n",
       "      <td>-70.07591</td>\n",
       "      <td>3.86143</td>\n",
       "    </tr>\n",
       "    <tr>\n",
       "      <th>2</th>\n",
       "      <td>2005</td>\n",
       "      <td>33.81773</td>\n",
       "      <td>-139.07371</td>\n",
       "      <td>134.19332</td>\n",
       "      <td>17.85216</td>\n",
       "      <td>63.47408</td>\n",
       "      <td>-25.28005</td>\n",
       "      <td>-34.65911</td>\n",
       "      <td>-5.99135</td>\n",
       "      <td>1.27848</td>\n",
       "      <td>...</td>\n",
       "      <td>54.16608</td>\n",
       "      <td>15.04530</td>\n",
       "      <td>39.09107</td>\n",
       "      <td>39.03041</td>\n",
       "      <td>3.68708</td>\n",
       "      <td>-61.88547</td>\n",
       "      <td>45.68115</td>\n",
       "      <td>6.39822</td>\n",
       "      <td>3.24471</td>\n",
       "      <td>35.74749</td>\n",
       "    </tr>\n",
       "    <tr>\n",
       "      <th>3</th>\n",
       "      <td>1998</td>\n",
       "      <td>41.60866</td>\n",
       "      <td>3.17811</td>\n",
       "      <td>-3.97174</td>\n",
       "      <td>23.53564</td>\n",
       "      <td>-19.68553</td>\n",
       "      <td>20.74407</td>\n",
       "      <td>18.80866</td>\n",
       "      <td>6.24474</td>\n",
       "      <td>-7.98424</td>\n",
       "      <td>...</td>\n",
       "      <td>28.08591</td>\n",
       "      <td>295.88684</td>\n",
       "      <td>54.02395</td>\n",
       "      <td>102.02880</td>\n",
       "      <td>40.47711</td>\n",
       "      <td>15.10258</td>\n",
       "      <td>-250.32293</td>\n",
       "      <td>2.81288</td>\n",
       "      <td>56.05172</td>\n",
       "      <td>3.60432</td>\n",
       "    </tr>\n",
       "    <tr>\n",
       "      <th>4</th>\n",
       "      <td>1987</td>\n",
       "      <td>44.49525</td>\n",
       "      <td>-32.25270</td>\n",
       "      <td>58.08217</td>\n",
       "      <td>3.73684</td>\n",
       "      <td>-32.53274</td>\n",
       "      <td>-18.72885</td>\n",
       "      <td>-15.85665</td>\n",
       "      <td>-3.34607</td>\n",
       "      <td>22.63786</td>\n",
       "      <td>...</td>\n",
       "      <td>31.44988</td>\n",
       "      <td>-136.50457</td>\n",
       "      <td>-85.11989</td>\n",
       "      <td>-74.96342</td>\n",
       "      <td>9.56921</td>\n",
       "      <td>-100.61689</td>\n",
       "      <td>-133.29315</td>\n",
       "      <td>9.19246</td>\n",
       "      <td>-97.37953</td>\n",
       "      <td>30.11015</td>\n",
       "    </tr>\n",
       "  </tbody>\n",
       "</table>\n",
       "<p>5 rows × 91 columns</p>\n",
       "</div>"
      ],
      "text/plain": [
       "   Year        S0         S1         S2        S3        S4        S5  \\\n",
       "0  2007  44.76752  114.82099    3.83239  27.99928   1.49153 -15.90853   \n",
       "1  2004  52.28942   75.73319   11.35941  -6.20582 -27.64559 -30.75995   \n",
       "2  2005  33.81773 -139.07371  134.19332  17.85216  63.47408 -25.28005   \n",
       "3  1998  41.60866    3.17811   -3.97174  23.53564 -19.68553  20.74407   \n",
       "4  1987  44.49525  -32.25270   58.08217   3.73684 -32.53274 -18.72885   \n",
       "\n",
       "         S6       S7        S8  ...       S80        S81        S82  \\\n",
       "0  28.24844  3.61650  -7.24653  ...  -1.89619 -471.02844  411.56205   \n",
       "1  12.50955  7.47877   9.88498  ...   4.57060    1.36110   -6.52977   \n",
       "2 -34.65911 -5.99135   1.27848  ...  54.16608   15.04530   39.09107   \n",
       "3  18.80866  6.24474  -7.98424  ...  28.08591  295.88684   54.02395   \n",
       "4 -15.85665 -3.34607  22.63786  ...  31.44988 -136.50457  -85.11989   \n",
       "\n",
       "         S83       S84        S85        S86       S87        S88       S89  \n",
       "0  443.01198  19.30254  309.07806 -336.91706 -14.70547 -474.44157  31.32820  \n",
       "1   59.48672   3.69790  -36.92252   44.08077   3.39993  -70.07591   3.86143  \n",
       "2   39.03041   3.68708  -61.88547   45.68115   6.39822    3.24471  35.74749  \n",
       "3  102.02880  40.47711   15.10258 -250.32293   2.81288   56.05172   3.60432  \n",
       "4  -74.96342   9.56921 -100.61689 -133.29315   9.19246  -97.37953  30.11015  \n",
       "\n",
       "[5 rows x 91 columns]"
      ]
     },
     "execution_count": 3,
     "metadata": {},
     "output_type": "execute_result"
    }
   ],
   "source": [
    "df = pd.read_csv('train.csv')\n",
    "df = df.drop_duplicates()\n",
    "print(df.shape)\n",
    "df.head()"
   ]
  },
  {
   "cell_type": "code",
   "execution_count": 4,
   "metadata": {},
   "outputs": [],
   "source": [
    "X = df.drop('Year',axis=1)\n",
    "y = df['Year']"
   ]
  },
  {
   "cell_type": "markdown",
   "metadata": {},
   "source": [
    "# SUPPORT VECTOR REGRESSION"
   ]
  },
  {
   "cell_type": "code",
   "execution_count": 5,
   "metadata": {},
   "outputs": [
    {
     "name": "stdout",
     "output_type": "stream",
     "text": [
      "Number of train set:  201698\n",
      "Numebr of test set:  50425\n"
     ]
    }
   ],
   "source": [
    "X_train, X_test, y_train, y_test = train_test_split(X, y, test_size=0.20, random_state=42)\n",
    "\n",
    "scaler = StandardScaler()\n",
    "X_train = scaler.fit_transform(X_train)\n",
    "X_test = scaler.transform(X_test)\n",
    "\n",
    "\n",
    "print(\"Number of train set: \", X_train.shape[0])\n",
    "print(\"Numebr of test set: \", X_test.shape[0])"
   ]
  },
  {
   "cell_type": "code",
   "execution_count": 6,
   "metadata": {},
   "outputs": [
    {
     "data": {
      "text/html": [
       "<style>#sk-container-id-1 {color: black;}#sk-container-id-1 pre{padding: 0;}#sk-container-id-1 div.sk-toggleable {background-color: white;}#sk-container-id-1 label.sk-toggleable__label {cursor: pointer;display: block;width: 100%;margin-bottom: 0;padding: 0.3em;box-sizing: border-box;text-align: center;}#sk-container-id-1 label.sk-toggleable__label-arrow:before {content: \"▸\";float: left;margin-right: 0.25em;color: #696969;}#sk-container-id-1 label.sk-toggleable__label-arrow:hover:before {color: black;}#sk-container-id-1 div.sk-estimator:hover label.sk-toggleable__label-arrow:before {color: black;}#sk-container-id-1 div.sk-toggleable__content {max-height: 0;max-width: 0;overflow: hidden;text-align: left;background-color: #f0f8ff;}#sk-container-id-1 div.sk-toggleable__content pre {margin: 0.2em;color: black;border-radius: 0.25em;background-color: #f0f8ff;}#sk-container-id-1 input.sk-toggleable__control:checked~div.sk-toggleable__content {max-height: 200px;max-width: 100%;overflow: auto;}#sk-container-id-1 input.sk-toggleable__control:checked~label.sk-toggleable__label-arrow:before {content: \"▾\";}#sk-container-id-1 div.sk-estimator input.sk-toggleable__control:checked~label.sk-toggleable__label {background-color: #d4ebff;}#sk-container-id-1 div.sk-label input.sk-toggleable__control:checked~label.sk-toggleable__label {background-color: #d4ebff;}#sk-container-id-1 input.sk-hidden--visually {border: 0;clip: rect(1px 1px 1px 1px);clip: rect(1px, 1px, 1px, 1px);height: 1px;margin: -1px;overflow: hidden;padding: 0;position: absolute;width: 1px;}#sk-container-id-1 div.sk-estimator {font-family: monospace;background-color: #f0f8ff;border: 1px dotted black;border-radius: 0.25em;box-sizing: border-box;margin-bottom: 0.5em;}#sk-container-id-1 div.sk-estimator:hover {background-color: #d4ebff;}#sk-container-id-1 div.sk-parallel-item::after {content: \"\";width: 100%;border-bottom: 1px solid gray;flex-grow: 1;}#sk-container-id-1 div.sk-label:hover label.sk-toggleable__label {background-color: #d4ebff;}#sk-container-id-1 div.sk-serial::before {content: \"\";position: absolute;border-left: 1px solid gray;box-sizing: border-box;top: 0;bottom: 0;left: 50%;z-index: 0;}#sk-container-id-1 div.sk-serial {display: flex;flex-direction: column;align-items: center;background-color: white;padding-right: 0.2em;padding-left: 0.2em;position: relative;}#sk-container-id-1 div.sk-item {position: relative;z-index: 1;}#sk-container-id-1 div.sk-parallel {display: flex;align-items: stretch;justify-content: center;background-color: white;position: relative;}#sk-container-id-1 div.sk-item::before, #sk-container-id-1 div.sk-parallel-item::before {content: \"\";position: absolute;border-left: 1px solid gray;box-sizing: border-box;top: 0;bottom: 0;left: 50%;z-index: -1;}#sk-container-id-1 div.sk-parallel-item {display: flex;flex-direction: column;z-index: 1;position: relative;background-color: white;}#sk-container-id-1 div.sk-parallel-item:first-child::after {align-self: flex-end;width: 50%;}#sk-container-id-1 div.sk-parallel-item:last-child::after {align-self: flex-start;width: 50%;}#sk-container-id-1 div.sk-parallel-item:only-child::after {width: 0;}#sk-container-id-1 div.sk-dashed-wrapped {border: 1px dashed gray;margin: 0 0.4em 0.5em 0.4em;box-sizing: border-box;padding-bottom: 0.4em;background-color: white;}#sk-container-id-1 div.sk-label label {font-family: monospace;font-weight: bold;display: inline-block;line-height: 1.2em;}#sk-container-id-1 div.sk-label-container {text-align: center;}#sk-container-id-1 div.sk-container {/* jupyter's `normalize.less` sets `[hidden] { display: none; }` but bootstrap.min.css set `[hidden] { display: none !important; }` so we also need the `!important` here to be able to override the default hidden behavior on the sphinx rendered scikit-learn.org. See: https://github.com/scikit-learn/scikit-learn/issues/21755 */display: inline-block !important;position: relative;}#sk-container-id-1 div.sk-text-repr-fallback {display: none;}</style><div id=\"sk-container-id-1\" class=\"sk-top-container\"><div class=\"sk-text-repr-fallback\"><pre>SVR()</pre><b>In a Jupyter environment, please rerun this cell to show the HTML representation or trust the notebook. <br />On GitHub, the HTML representation is unable to render, please try loading this page with nbviewer.org.</b></div><div class=\"sk-container\" hidden><div class=\"sk-item\"><div class=\"sk-estimator sk-toggleable\"><input class=\"sk-toggleable__control sk-hidden--visually\" id=\"sk-estimator-id-1\" type=\"checkbox\" checked><label for=\"sk-estimator-id-1\" class=\"sk-toggleable__label sk-toggleable__label-arrow\">SVR</label><div class=\"sk-toggleable__content\"><pre>SVR()</pre></div></div></div></div></div>"
      ],
      "text/plain": [
       "SVR()"
      ]
     },
     "execution_count": 6,
     "metadata": {},
     "output_type": "execute_result"
    }
   ],
   "source": [
    "svr_model = SVR()\n",
    "\n",
    "svr_model.fit(X_train, y_train)"
   ]
  },
  {
   "cell_type": "code",
   "execution_count": 7,
   "metadata": {},
   "outputs": [
    {
     "name": "stdout",
     "output_type": "stream",
     "text": [
      "R² (Train): 0.3166619059087247\n",
      "R² (Test): 0.2958181411762769\n",
      "MSE (Train): 75.51246821602814\n",
      "MSE (Test): 76.75054136241319\n",
      "MAE (Train): 5.583879245712093\n",
      "MAE (Test): 5.77031524899447\n",
      "MAPE (Train): 0.0028074138199862984\n",
      "MAPE (Test): 0.002900230382624805\n",
      "RMSE (Train): 8.689791034082933\n",
      "RMSE (Test): 8.760738631098018\n"
     ]
    }
   ],
   "source": [
    "predictions_train = svr_model.predict(X_train)\n",
    "predictions_test = svr_model.predict(X_test)\n",
    "\n",
    "print(\"R² (Train):\", r2_score(y_train, predictions_train))\n",
    "print(\"R² (Test):\", r2_score(y_test, predictions_test))\n",
    "print(\"MSE (Train):\", mean_squared_error(y_train, predictions_train))\n",
    "print(\"MSE (Test):\", mean_squared_error(y_test, predictions_test))\n",
    "print(\"MAE (Train):\", mean_absolute_error(y_train, predictions_train))\n",
    "print(\"MAE (Test):\", mean_absolute_error(y_test, predictions_test))\n",
    "print(\"MAPE (Train):\", mean_absolute_percentage_error(y_train, predictions_train))\n",
    "print(\"MAPE (Test):\", mean_absolute_percentage_error(y_test, predictions_test))\n",
    "print(\"RMSE (Train):\", np.sqrt(mean_squared_error(y_train, predictions_train)))\n",
    "print(\"RMSE (Test):\", np.sqrt(mean_squared_error(y_test, predictions_test)))"
   ]
  },
  {
   "cell_type": "code",
   "execution_count": 8,
   "metadata": {},
   "outputs": [],
   "source": [
    "file_scaler= open(\"modelli/SVR/normal_svr.save\",\"wb\")\n",
    "pickle.dump(scaler, file_scaler)\n",
    "file_scaler.close()\n",
    "file_model = open(\"modelli/SVR/model_svr.save\",\"wb\")\n",
    "pickle.dump(svr_model, file_model)\n",
    "file_model.close()"
   ]
  }
 ],
 "metadata": {
  "kernelspec": {
   "display_name": "base",
   "language": "python",
   "name": "python3"
  },
  "language_info": {
   "codemirror_mode": {
    "name": "ipython",
    "version": 3
   },
   "file_extension": ".py",
   "mimetype": "text/x-python",
   "name": "python",
   "nbconvert_exporter": "python",
   "pygments_lexer": "ipython3",
   "version": "3.11.5"
  }
 },
 "nbformat": 4,
 "nbformat_minor": 2
}
